{
 "cells": [
  {
   "cell_type": "code",
   "execution_count": null,
   "id": "9192253d",
   "metadata": {},
   "outputs": [],
   "source": [
    "i = 1\n",
    "while i<100:\n",
    "    i = 1"
   ]
  },
  {
   "cell_type": "code",
   "execution_count": null,
   "id": "07460094",
   "metadata": {},
   "outputs": [],
   "source": [
    "x=5\n",
    "print(x)\n",
    "print(x+1)"
   ]
  },
  {
   "cell_type": "code",
   "execution_count": null,
   "id": "9fab8763",
   "metadata": {},
   "outputs": [],
   "source": [
    "i = 1\n",
    "while i<100:\n",
    "    i = 1"
   ]
  },
  {
   "cell_type": "code",
   "execution_count": null,
   "id": "28b79a86",
   "metadata": {},
   "outputs": [],
   "source": [
    "print(x)"
   ]
  },
  {
   "cell_type": "code",
   "execution_count": null,
   "id": "47806ee0",
   "metadata": {},
   "outputs": [],
   "source": [
    "print(x+1)"
   ]
  },
  {
   "cell_type": "code",
   "execution_count": null,
   "id": "575c9b72",
   "metadata": {},
   "outputs": [],
   "source": [
    "print(x)"
   ]
  },
  {
   "cell_type": "markdown",
   "id": "d7f42932",
   "metadata": {},
   "source": [
    "# Big heading"
   ]
  },
  {
   "cell_type": "markdown",
   "id": "8daf57f1",
   "metadata": {},
   "source": [
    "# Big heading\n",
    "\n"
   ]
  },
  {
   "cell_type": "code",
   "execution_count": 1,
   "id": "ae65b82d",
   "metadata": {},
   "outputs": [
    {
     "data": {
      "text/plain": [
       "3"
      ]
     },
     "execution_count": 1,
     "metadata": {},
     "output_type": "execute_result"
    }
   ],
   "source": [
    "x = 1\n",
    "y = 2 \n",
    "x + y "
   ]
  },
  {
   "cell_type": "code",
   "execution_count": 2,
   "id": "19c1f480",
   "metadata": {},
   "outputs": [
    {
     "data": {
      "text/plain": [
       "1"
      ]
     },
     "execution_count": 2,
     "metadata": {},
     "output_type": "execute_result"
    }
   ],
   "source": [
    "x"
   ]
  },
  {
   "cell_type": "code",
   "execution_count": 14,
   "id": "6d597bdb",
   "metadata": {},
   "outputs": [
    {
     "name": "stdout",
     "output_type": "stream",
     "text": [
      "8\n"
     ]
    }
   ],
   "source": [
    "def add_numbers(x,y,z=None, flag = False):\n",
    "    if(z== None):\n",
    "        return x+y\n",
    "    else:\n",
    "        return x+y+z\n",
    "print(add_numbers(1,2,5))"
   ]
  },
  {
   "cell_type": "markdown",
   "id": "96fc16cb",
   "metadata": {},
   "source": [
    "tuple cannot be changed"
   ]
  },
  {
   "cell_type": "code",
   "execution_count": null,
   "id": "f7f57d88",
   "metadata": {},
   "outputs": [],
   "source": []
  }
 ],
 "metadata": {
  "kernelspec": {
   "display_name": "Python 3",
   "language": "python",
   "name": "python3"
  },
  "language_info": {
   "codemirror_mode": {
    "name": "ipython",
    "version": 3
   },
   "file_extension": ".py",
   "mimetype": "text/x-python",
   "name": "python",
   "nbconvert_exporter": "python",
   "pygments_lexer": "ipython3",
   "version": "3.8.8"
  }
 },
 "nbformat": 4,
 "nbformat_minor": 5
}
