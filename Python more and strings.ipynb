{
 "cells": [
  {
   "cell_type": "markdown",
   "id": "d9585f3a",
   "metadata": {},
   "source": [
    "# The Python Programming Language : Types and Sequences"
   ]
  },
  {
   "cell_type": "code",
   "execution_count": 1,
   "id": "4fb8fdf0",
   "metadata": {},
   "outputs": [
    {
     "data": {
      "text/plain": [
       "str"
      ]
     },
     "execution_count": 1,
     "metadata": {},
     "output_type": "execute_result"
    }
   ],
   "source": [
    "type (\"There is a string\")"
   ]
  },
  {
   "cell_type": "code",
   "execution_count": 2,
   "id": "506119f9",
   "metadata": {},
   "outputs": [
    {
     "data": {
      "text/plain": [
       "NoneType"
      ]
     },
     "execution_count": 2,
     "metadata": {},
     "output_type": "execute_result"
    }
   ],
   "source": [
    "type(None)"
   ]
  },
  {
   "cell_type": "code",
   "execution_count": 3,
   "id": "7015c0be",
   "metadata": {},
   "outputs": [
    {
     "data": {
      "text/plain": [
       "tuple"
      ]
     },
     "execution_count": 3,
     "metadata": {},
     "output_type": "execute_result"
    }
   ],
   "source": [
    "x=(1,\"a\",2,\"b\")\n",
    "type(x)"
   ]
  },
  {
   "cell_type": "code",
   "execution_count": 4,
   "id": "938800e8",
   "metadata": {},
   "outputs": [
    {
     "data": {
      "text/plain": [
       "list"
      ]
     },
     "execution_count": 4,
     "metadata": {},
     "output_type": "execute_result"
    }
   ],
   "source": [
    "list"
   ]
  },
  {
   "cell_type": "code",
   "execution_count": 6,
   "id": "4ec2aae8",
   "metadata": {},
   "outputs": [],
   "source": [
    "x = [1,2,\"a\",\"b\"]"
   ]
  },
  {
   "cell_type": "code",
   "execution_count": 7,
   "id": "9d796a35",
   "metadata": {},
   "outputs": [],
   "source": [
    "x.append(3.3)"
   ]
  },
  {
   "cell_type": "code",
   "execution_count": 8,
   "id": "c9204d9f",
   "metadata": {},
   "outputs": [
    {
     "data": {
      "text/plain": [
       "[1, 2, 'a', 'b', 3.3]"
      ]
     },
     "execution_count": 8,
     "metadata": {},
     "output_type": "execute_result"
    }
   ],
   "source": [
    "x"
   ]
  },
  {
   "cell_type": "code",
   "execution_count": 10,
   "id": "7b8671df",
   "metadata": {},
   "outputs": [
    {
     "name": "stdout",
     "output_type": "stream",
     "text": [
      "1\n",
      "2\n",
      "a\n",
      "b\n",
      "3.3\n"
     ]
    }
   ],
   "source": [
    "for item in x:\n",
    "    print(item)"
   ]
  },
  {
   "cell_type": "code",
   "execution_count": 11,
   "id": "b3924c24",
   "metadata": {},
   "outputs": [
    {
     "name": "stdout",
     "output_type": "stream",
     "text": [
      "1\n",
      "2\n",
      "a\n",
      "b\n",
      "3.3\n"
     ]
    }
   ],
   "source": [
    "i = 0 \n",
    "while ( i !=len(x)) :\n",
    "    print(x[i])\n",
    "    i = i+1"
   ]
  },
  {
   "cell_type": "code",
   "execution_count": 12,
   "id": "1e2a494b",
   "metadata": {},
   "outputs": [
    {
     "data": {
      "text/plain": [
       "[1, 2, 3, 4]"
      ]
     },
     "execution_count": 12,
     "metadata": {},
     "output_type": "execute_result"
    }
   ],
   "source": [
    "[1,2]+[3,4]"
   ]
  },
  {
   "cell_type": "code",
   "execution_count": 13,
   "id": "292d07fa",
   "metadata": {},
   "outputs": [
    {
     "data": {
      "text/plain": [
       "[1, 1, 1, 1, 1]"
      ]
     },
     "execution_count": 13,
     "metadata": {},
     "output_type": "execute_result"
    }
   ],
   "source": [
    "[1]*5"
   ]
  },
  {
   "cell_type": "code",
   "execution_count": 14,
   "id": "bd14afbf",
   "metadata": {},
   "outputs": [],
   "source": [
    "x = \"This is a string\""
   ]
  },
  {
   "cell_type": "code",
   "execution_count": 16,
   "id": "35f116af",
   "metadata": {},
   "outputs": [
    {
     "name": "stdout",
     "output_type": "stream",
     "text": [
      "T\n",
      "This \n"
     ]
    }
   ],
   "source": [
    "print(x[0])\n",
    "print(x[0:5])"
   ]
  },
  {
   "cell_type": "code",
   "execution_count": 18,
   "id": "705aa30c",
   "metadata": {},
   "outputs": [
    {
     "name": "stdout",
     "output_type": "stream",
     "text": [
      "rin\n"
     ]
    }
   ],
   "source": [
    "print(x[-4:-1])"
   ]
  },
  {
   "cell_type": "code",
   "execution_count": 19,
   "id": "ca8eb3cd",
   "metadata": {},
   "outputs": [
    {
     "data": {
      "text/plain": [
       "'s is a string'"
      ]
     },
     "execution_count": 19,
     "metadata": {},
     "output_type": "execute_result"
    }
   ],
   "source": [
    "x[3:]"
   ]
  },
  {
   "cell_type": "code",
   "execution_count": 25,
   "id": "5f608aaf",
   "metadata": {},
   "outputs": [
    {
     "name": "stdout",
     "output_type": "stream",
     "text": [
      "ChristopherBrooks\n",
      "ChristopherChristopherChristopher\n",
      "True\n"
     ]
    }
   ],
   "source": [
    "firstname = \"Christopher\"\n",
    "lastname=\"Brooks\"\n",
    "\n",
    "print(firstname + \"\" + lastname)\n",
    "print(firstname*3)\n",
    "print(\"Christopher\" in firstname)"
   ]
  },
  {
   "cell_type": "code",
   "execution_count": 28,
   "id": "e4c43f79",
   "metadata": {},
   "outputs": [
    {
     "data": {
      "text/plain": [
       "'brooksch@umich.edu'"
      ]
     },
     "execution_count": 28,
     "metadata": {},
     "output_type": "execute_result"
    }
   ],
   "source": [
    "x={\"Christopher Brooks\" : \"brooksch@umich.edu\", \"Bill Gates\": \"billg@microsoft.com\"}\n",
    "x ['Christopher Brooks']"
   ]
  },
  {
   "cell_type": "code",
   "execution_count": 29,
   "id": "a83ee6d5",
   "metadata": {},
   "outputs": [],
   "source": [
    "x['Kevyn COllins-Thompson'] = None\n",
    "x['Kevyn COllins-Thompson']"
   ]
  },
  {
   "cell_type": "code",
   "execution_count": 30,
   "id": "e9272f4a",
   "metadata": {},
   "outputs": [
    {
     "name": "stdout",
     "output_type": "stream",
     "text": [
      "brooksch@umich.edu\n",
      "billg@microsoft.com\n",
      "None\n"
     ]
    }
   ],
   "source": [
    "for name in x:\n",
    "    print(x[name])"
   ]
  },
  {
   "cell_type": "code",
   "execution_count": 36,
   "id": "37a8d3e5",
   "metadata": {},
   "outputs": [
    {
     "name": "stdout",
     "output_type": "stream",
     "text": [
      "brooksch@umich.edu\n",
      "billg@microsoft.com\n",
      "None\n"
     ]
    }
   ],
   "source": [
    "for name in x.values():\n",
    "    print(name)"
   ]
  },
  {
   "cell_type": "code",
   "execution_count": 37,
   "id": "1c0e08bc",
   "metadata": {},
   "outputs": [],
   "source": [
    "x = (\"Mertcan\", \"Comak\",'comak.mertcan@gmail.com')\n",
    "name, surname, email = x"
   ]
  },
  {
   "cell_type": "code",
   "execution_count": 38,
   "id": "5fe74da0",
   "metadata": {},
   "outputs": [
    {
     "data": {
      "text/plain": [
       "'Mertcan'"
      ]
     },
     "execution_count": 38,
     "metadata": {},
     "output_type": "execute_result"
    }
   ],
   "source": [
    "name"
   ]
  },
  {
   "cell_type": "code",
   "execution_count": 39,
   "id": "b189e4de",
   "metadata": {},
   "outputs": [
    {
     "data": {
      "text/plain": [
       "'comak.mertcan@gmail.com'"
      ]
     },
     "execution_count": 39,
     "metadata": {},
     "output_type": "execute_result"
    }
   ],
   "source": [
    "email"
   ]
  },
  {
   "cell_type": "code",
   "execution_count": 51,
   "id": "30cab519",
   "metadata": {},
   "outputs": [],
   "source": [
    "x = {\"Mertcan\", \"Comak\",'comak.mertcan@gmail.com'}\n",
    "name, surname, email = x"
   ]
  },
  {
   "cell_type": "code",
   "execution_count": 52,
   "id": "871375e0",
   "metadata": {},
   "outputs": [
    {
     "data": {
      "text/plain": [
       "'Comak'"
      ]
     },
     "execution_count": 52,
     "metadata": {},
     "output_type": "execute_result"
    }
   ],
   "source": [
    "name"
   ]
  },
  {
   "cell_type": "code",
   "execution_count": 53,
   "id": "d0890cb7",
   "metadata": {},
   "outputs": [
    {
     "data": {
      "text/plain": [
       "'comak.mertcan@gmail.com'"
      ]
     },
     "execution_count": 53,
     "metadata": {},
     "output_type": "execute_result"
    }
   ],
   "source": [
    "email"
   ]
  },
  {
   "cell_type": "code",
   "execution_count": 54,
   "id": "bb587000",
   "metadata": {},
   "outputs": [
    {
     "data": {
      "text/plain": [
       "'Mertcan'"
      ]
     },
     "execution_count": 54,
     "metadata": {},
     "output_type": "execute_result"
    }
   ],
   "source": [
    "surname"
   ]
  },
  {
   "cell_type": "code",
   "execution_count": 55,
   "id": "ff0bcf00",
   "metadata": {},
   "outputs": [],
   "source": [
    "z = (\"Mertcan\", \"Comak\",'comak.mertcan@gmail.com')\n",
    "name, surname, email = z"
   ]
  },
  {
   "cell_type": "code",
   "execution_count": 56,
   "id": "02155d02",
   "metadata": {},
   "outputs": [
    {
     "data": {
      "text/plain": [
       "'Mertcan'"
      ]
     },
     "execution_count": 56,
     "metadata": {},
     "output_type": "execute_result"
    }
   ],
   "source": [
    "name"
   ]
  },
  {
   "cell_type": "code",
   "execution_count": 57,
   "id": "a63f3c55",
   "metadata": {},
   "outputs": [
    {
     "data": {
      "text/plain": [
       "'Comak'"
      ]
     },
     "execution_count": 57,
     "metadata": {},
     "output_type": "execute_result"
    }
   ],
   "source": [
    "surname"
   ]
  },
  {
   "cell_type": "code",
   "execution_count": 58,
   "id": "bc3569fd",
   "metadata": {},
   "outputs": [
    {
     "data": {
      "text/plain": [
       "'Comak'"
      ]
     },
     "execution_count": 58,
     "metadata": {},
     "output_type": "execute_result"
    }
   ],
   "source": [
    "x = {\"Mertcan\", \"Comak\",'comak.mertcan@gmail.com'}\n",
    "name, surname, email = x\n",
    "name"
   ]
  },
  {
   "cell_type": "code",
   "execution_count": 63,
   "id": "ce66a48c",
   "metadata": {},
   "outputs": [
    {
     "name": "stdout",
     "output_type": "stream",
     "text": [
      "Chris bought 4 item(s) at a prices of 3.24 each for a total of 12.96\n"
     ]
    }
   ],
   "source": [
    "sales_record = {\"prices\":3.24,\n",
    "               \"num_items\":4,\n",
    "               \"person\":\"Chris\"}\n",
    "sales_statement = '{} bought {} item(s) at a prices of {} each for a total of {}'\n",
    "\n",
    "print(sales_statement.format(sales_record['person'],\n",
    "                             sales_record['num_items'],\n",
    "                             sales_record[\"prices\"],\n",
    "                             sales_record[\"num_items\"]*sales_record[\"prices\"]))"
   ]
  },
  {
   "cell_type": "code",
   "execution_count": 2,
   "id": "8a785fbf",
   "metadata": {},
   "outputs": [
    {
     "data": {
      "text/plain": [
       "<map at 0x25a68666ee0>"
      ]
     },
     "execution_count": 2,
     "metadata": {},
     "output_type": "execute_result"
    }
   ],
   "source": [
    "store1 = {10, 11, 15,9.55,33.40}\n",
    "store2 = {15,12,44,20,41}\n",
    "\n",
    "cheapest = map(min,store1,store2)\n",
    "cheapest"
   ]
  },
  {
   "cell_type": "code",
   "execution_count": 4,
   "id": "a325457b",
   "metadata": {},
   "outputs": [
    {
     "name": "stdout",
     "output_type": "stream",
     "text": [
      "This command is not supported by the help utility.  Try \"map() /?\".\n"
     ]
    }
   ],
   "source": [
    "!help map()"
   ]
  },
  {
   "cell_type": "code",
   "execution_count": 5,
   "id": "2098911d",
   "metadata": {},
   "outputs": [
    {
     "data": {
      "text/plain": [
       "'Mertcan'"
      ]
     },
     "execution_count": 5,
     "metadata": {},
     "output_type": "execute_result"
    }
   ],
   "source": [
    "x = [\"Mertcan\", \"Comak\",'comak.mertcan@gmail.com']\n",
    "name, surname, email = x\n",
    "name"
   ]
  },
  {
   "cell_type": "code",
   "execution_count": 49,
   "id": "37d72f47",
   "metadata": {},
   "outputs": [
    {
     "data": {
      "text/plain": [
       "['aa', 'ab', 'ac', 'ba', 'bb', 'bc', 'ca', 'cb', 'cc']"
      ]
     },
     "execution_count": 49,
     "metadata": {},
     "output_type": "execute_result"
    }
   ],
   "source": [
    "lowercase = 'abc'\n",
    "x = [(lowercase[i]+lowercase[j]) for i in range(len(lowercase)) for j in range(len(lowercase))]\n",
    "x"
   ]
  },
  {
   "cell_type": "code",
   "execution_count": 13,
   "id": "c6558a42",
   "metadata": {},
   "outputs": [
    {
     "data": {
      "text/plain": [
       "range(0, 26)"
      ]
     },
     "execution_count": 13,
     "metadata": {},
     "output_type": "execute_result"
    }
   ],
   "source": [
    "range(len(lowercase))"
   ]
  },
  {
   "cell_type": "code",
   "execution_count": 54,
   "id": "66635f9e",
   "metadata": {},
   "outputs": [
    {
     "name": "stdout",
     "output_type": "stream",
     "text": [
      "[<generator object <genexpr> at 0x0000025A6876C4A0>]\n"
     ]
    }
   ],
   "source": [
    "lowercase = 'abcdefghijklmnopqrstuvwxyz'\n",
    "digits = '0123456789'\n",
    "\n",
    "answer = [((lowercase[i]+lowercase[j]+digits[k]+digits[m]) for k in range(len(digits)) for m in range(len(digits)) for i in range(len(lowercase)) for j in range(len(lowercase)))]\n",
    "answer"
   ]
  },
  {
   "cell_type": "code",
   "execution_count": null,
   "id": "41a1bf90",
   "metadata": {},
   "outputs": [],
   "source": []
  }
 ],
 "metadata": {
  "kernelspec": {
   "display_name": "Python 3",
   "language": "python",
   "name": "python3"
  },
  "language_info": {
   "codemirror_mode": {
    "name": "ipython",
    "version": 3
   },
   "file_extension": ".py",
   "mimetype": "text/x-python",
   "name": "python",
   "nbconvert_exporter": "python",
   "pygments_lexer": "ipython3",
   "version": "3.8.8"
  }
 },
 "nbformat": 4,
 "nbformat_minor": 5
}
